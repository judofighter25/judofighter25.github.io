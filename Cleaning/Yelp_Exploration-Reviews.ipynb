{
 "cells": [
  {
   "cell_type": "code",
   "execution_count": 1,
   "metadata": {
    "collapsed": false
   },
   "outputs": [],
   "source": [
    "import json\n",
    "import numpy as np\n",
    "import pandas as pd\n",
    "\n"
   ]
  },
  {
   "cell_type": "code",
   "execution_count": 3,
   "metadata": {
    "collapsed": false
   },
   "outputs": [
    {
     "name": "stdout",
     "output_type": "stream",
     "text": [
      "done\n"
     ]
    }
   ],
   "source": [
    "star = []\n",
    "reviews = []\n",
    "\n",
    "#Load business id and its review for each business that's been reviwed\n",
    "with open('/Users/Maximus/Desktop/W209_DB/yelp_academic_dataset.json') as datafile:\n",
    "    for i in datafile:\n",
    "        data = json.loads(i)\n",
    "        if data['type']=='review':\n",
    "            reviews.append(data['business_id'])\n",
    "            star.append(data['stars'])               \n",
    "\n",
    "print 'done'"
   ]
  },
  {
   "cell_type": "code",
   "execution_count": 4,
   "metadata": {
    "collapsed": false
   },
   "outputs": [
    {
     "name": "stdout",
     "output_type": "stream",
     "text": [
      "              business_id  reviews\n",
      "0  wbpbaWBfU54JbjLIDwERQA        5\n",
      "1  4iTRjN_uAdAb7_YZDVHJdg        5\n",
      "2  qw5gR8vW7mSOK4VROSwdMA        4\n",
      "3  81IjU5L-t-QQwsE38C63hQ        4\n",
      "4  Hnz1_h_D1eHSRtQqHSCZkw        2\n",
      "5  ZRm8fSEBn8DsSLD4o7T4hQ        4\n",
      "6  -tphABJRkegXV4Fr1ke4FQ        4\n",
      "7  kYD1PIXBsyZQXG_AEJB7ew        4\n",
      "8  Q0t7EEaygJ2hb4uFn79owQ        4\n",
      "9  fcdjnsgO8Z5LthXUx3y-lA        3\n"
     ]
    }
   ],
   "source": [
    "l = len(star) #size of the data\n",
    "f_list = ['business_id', 'reviews']\n",
    "b_rev = pd.DataFrame(0, index=np.arange(l), columns=f_list)  #Created a panda dataframe to hold this\n",
    "b_rev.iloc[:,0] = reviews\n",
    "b_rev.iloc[:,1] = star\n",
    "print b_rev.iloc[:10,:]  #show results"
   ]
  },
  {
   "cell_type": "code",
   "execution_count": 5,
   "metadata": {
    "collapsed": false
   },
   "outputs": [
    {
     "name": "stdout",
     "output_type": "stream",
     "text": [
      "reviews                  1   2   3   4   5\n",
      "business_id                               \n",
      "--3iH7ezDwTGn5lolFMdhg NaN NaN   4   5   2\n",
      "--q0WbTS_Gl55W3bC4zmSA NaN NaN   2 NaN NaN\n",
      "-0iqnv7MjKrgh7Q7bYRlUQ   5   3  23  61  61\n",
      "-12AM51qDmENfCtFZEw3pw  10   7   8   6   9\n",
      "-1Jfl_zix9l1RRWOPmzSEQ   2   7   6   5   1\n",
      "-1K9xLVS8HnG8n0g7Xq7mQ   5   7  13  28  31\n",
      "-1siJSW7P3IFqpwv3PU53w NaN   1   1   2   2\n",
      "-2J-BrHD3noFG0Rnp9g8qA NaN NaN   1   7   2\n",
      "-2YrXfEi4vuriNgdDq4fFw NaN NaN NaN   5   1\n",
      "-2sqq2aR1RnlEbv5s9eo-g NaN NaN   1   1 NaN\n"
     ]
    }
   ],
   "source": [
    "#Use a pivot table in panda to find the average reviews a restaurnat got\n",
    "table = b_rev.pivot_table(index=['business_id'], columns=['reviews'], values=['reviews'], aggfunc=len)\n",
    "print table.iloc[0:10,:]  #show the example"
   ]
  },
  {
   "cell_type": "code",
   "execution_count": 6,
   "metadata": {
    "collapsed": false
   },
   "outputs": [
    {
     "name": "stdout",
     "output_type": "stream",
     "text": [
      "Done\n"
     ]
    }
   ],
   "source": [
    "table = b_rev.pivot_table(index=['reviews'], columns=['business_id'], values=['reviews'], aggfunc=len)\n",
    "#print table.iloc[0:20,0:10]\n",
    "writeout = table.fillna(0)  #Filled all the \"Nan\" with zeros\n",
    "writeout.to_csv('review_output.txt', sep='\\t', index=True)\n",
    "print 'Done'"
   ]
  },
  {
   "cell_type": "markdown",
   "metadata": {},
   "source": [
    "# Additional Data Exploration"
   ]
  },
  {
   "cell_type": "code",
   "execution_count": 195,
   "metadata": {
    "collapsed": false
   },
   "outputs": [
    {
     "data": {
      "text/plain": [
       "[3773,\n",
       " 10638,\n",
       " 113826,\n",
       " 131018,\n",
       " 131120,\n",
       " 175734,\n",
       " 177002,\n",
       " 185527,\n",
       " 218837,\n",
       " 222862,\n",
       " 272403]"
      ]
     },
     "execution_count": 195,
     "metadata": {},
     "output_type": "execute_result"
    }
   ],
   "source": [
    "#print len(reviews.keys()) \n",
    "#a = list(reviews.keys())[0:10]  \n",
    "#print b_rev['--3iH7ezDwTGn5lolFMdhg']\n",
    "\n",
    "b_rev[b_rev['business_id'] == '--3iH7ezDwTGn5lolFMdhg'].index.tolist()\n",
    "#if '--3iH7ezDwTGn5lolFMdhg' in reviews:\n",
    "    #print 'Yes'"
   ]
  },
  {
   "cell_type": "code",
   "execution_count": 128,
   "metadata": {
    "collapsed": false
   },
   "outputs": [
    {
     "ename": "KeyboardInterrupt",
     "evalue": "",
     "output_type": "error",
     "traceback": [
      "\u001b[0;31m---------------------------------------------------------------------------\u001b[0m",
      "\u001b[0;31mKeyboardInterrupt\u001b[0m                         Traceback (most recent call last)",
      "\u001b[0;32m<ipython-input-128-5c8dca959225>\u001b[0m in \u001b[0;36m<module>\u001b[0;34m()\u001b[0m\n\u001b[1;32m     10\u001b[0m \u001b[0;34m\u001b[0m\u001b[0m\n\u001b[1;32m     11\u001b[0m \u001b[0;32mfor\u001b[0m \u001b[0mi\u001b[0m \u001b[0;32min\u001b[0m \u001b[0mlist\u001b[0m\u001b[0;34m(\u001b[0m\u001b[0mreviews\u001b[0m\u001b[0;34m)\u001b[0m\u001b[0;34m[\u001b[0m\u001b[0;36m0\u001b[0m\u001b[0;34m:\u001b[0m\u001b[0mlen\u001b[0m\u001b[0;34m(\u001b[0m\u001b[0mreviews\u001b[0m\u001b[0;34m)\u001b[0m\u001b[0;34m]\u001b[0m\u001b[0;34m:\u001b[0m\u001b[0;34m\u001b[0m\u001b[0m\n\u001b[0;32m---> 12\u001b[0;31m     \u001b[0mb_rev\u001b[0m\u001b[0;34m.\u001b[0m\u001b[0mix\u001b[0m\u001b[0;34m[\u001b[0m\u001b[0mc\u001b[0m\u001b[0;34m,\u001b[0m\u001b[0;34m'business_id'\u001b[0m\u001b[0;34m]\u001b[0m \u001b[0;34m=\u001b[0m \u001b[0mreviews\u001b[0m\u001b[0;34m[\u001b[0m\u001b[0mi\u001b[0m\u001b[0;34m]\u001b[0m\u001b[0;34m[\u001b[0m\u001b[0;34m'business_id'\u001b[0m\u001b[0;34m]\u001b[0m\u001b[0;34m\u001b[0m\u001b[0m\n\u001b[0m\u001b[1;32m     13\u001b[0m     \u001b[0mb_rev\u001b[0m\u001b[0;34m.\u001b[0m\u001b[0mix\u001b[0m\u001b[0;34m[\u001b[0m\u001b[0mc\u001b[0m\u001b[0;34m,\u001b[0m\u001b[0;34m'reviews'\u001b[0m\u001b[0;34m]\u001b[0m \u001b[0;34m=\u001b[0m  \u001b[0mreviews\u001b[0m\u001b[0;34m[\u001b[0m\u001b[0mi\u001b[0m\u001b[0;34m]\u001b[0m\u001b[0;34m[\u001b[0m\u001b[0;34m'stars'\u001b[0m\u001b[0;34m]\u001b[0m\u001b[0;34m\u001b[0m\u001b[0m\n\u001b[1;32m     14\u001b[0m     \u001b[0mc\u001b[0m \u001b[0;34m=\u001b[0m \u001b[0mc\u001b[0m \u001b[0;34m+\u001b[0m \u001b[0;36m1\u001b[0m\u001b[0;34m\u001b[0m\u001b[0m\n",
      "\u001b[0;32m/Users/Maximus/anaconda/lib/python2.7/site-packages/pandas/core/indexing.pyc\u001b[0m in \u001b[0;36m__setitem__\u001b[0;34m(self, key, value)\u001b[0m\n\u001b[1;32m    115\u001b[0m     \u001b[0;32mdef\u001b[0m \u001b[0m__setitem__\u001b[0m\u001b[0;34m(\u001b[0m\u001b[0mself\u001b[0m\u001b[0;34m,\u001b[0m \u001b[0mkey\u001b[0m\u001b[0;34m,\u001b[0m \u001b[0mvalue\u001b[0m\u001b[0;34m)\u001b[0m\u001b[0;34m:\u001b[0m\u001b[0;34m\u001b[0m\u001b[0m\n\u001b[1;32m    116\u001b[0m         \u001b[0mindexer\u001b[0m \u001b[0;34m=\u001b[0m \u001b[0mself\u001b[0m\u001b[0;34m.\u001b[0m\u001b[0m_get_setitem_indexer\u001b[0m\u001b[0;34m(\u001b[0m\u001b[0mkey\u001b[0m\u001b[0;34m)\u001b[0m\u001b[0;34m\u001b[0m\u001b[0m\n\u001b[0;32m--> 117\u001b[0;31m         \u001b[0mself\u001b[0m\u001b[0;34m.\u001b[0m\u001b[0m_setitem_with_indexer\u001b[0m\u001b[0;34m(\u001b[0m\u001b[0mindexer\u001b[0m\u001b[0;34m,\u001b[0m \u001b[0mvalue\u001b[0m\u001b[0;34m)\u001b[0m\u001b[0;34m\u001b[0m\u001b[0m\n\u001b[0m\u001b[1;32m    118\u001b[0m \u001b[0;34m\u001b[0m\u001b[0m\n\u001b[1;32m    119\u001b[0m     \u001b[0;32mdef\u001b[0m \u001b[0m_has_valid_type\u001b[0m\u001b[0;34m(\u001b[0m\u001b[0mself\u001b[0m\u001b[0;34m,\u001b[0m \u001b[0mk\u001b[0m\u001b[0;34m,\u001b[0m \u001b[0maxis\u001b[0m\u001b[0;34m)\u001b[0m\u001b[0;34m:\u001b[0m\u001b[0;34m\u001b[0m\u001b[0m\n",
      "\u001b[0;32m/Users/Maximus/anaconda/lib/python2.7/site-packages/pandas/core/indexing.pyc\u001b[0m in \u001b[0;36m_setitem_with_indexer\u001b[0;34m(self, indexer, value)\u001b[0m\n\u001b[1;32m    495\u001b[0m                 \u001b[0;31m# scalar\u001b[0m\u001b[0;34m\u001b[0m\u001b[0;34m\u001b[0m\u001b[0m\n\u001b[1;32m    496\u001b[0m                 \u001b[0;32mfor\u001b[0m \u001b[0mitem\u001b[0m \u001b[0;32min\u001b[0m \u001b[0mlabels\u001b[0m\u001b[0;34m:\u001b[0m\u001b[0;34m\u001b[0m\u001b[0m\n\u001b[0;32m--> 497\u001b[0;31m                     \u001b[0msetter\u001b[0m\u001b[0;34m(\u001b[0m\u001b[0mitem\u001b[0m\u001b[0;34m,\u001b[0m \u001b[0mvalue\u001b[0m\u001b[0;34m)\u001b[0m\u001b[0;34m\u001b[0m\u001b[0m\n\u001b[0m\u001b[1;32m    498\u001b[0m \u001b[0;34m\u001b[0m\u001b[0m\n\u001b[1;32m    499\u001b[0m         \u001b[0;32melse\u001b[0m\u001b[0;34m:\u001b[0m\u001b[0;34m\u001b[0m\u001b[0m\n",
      "\u001b[0;32m/Users/Maximus/anaconda/lib/python2.7/site-packages/pandas/core/indexing.pyc\u001b[0m in \u001b[0;36msetter\u001b[0;34m(item, v)\u001b[0m\n\u001b[1;32m    424\u001b[0m \u001b[0;34m\u001b[0m\u001b[0m\n\u001b[1;32m    425\u001b[0m                 \u001b[0;31m# reset the sliced object if unique\u001b[0m\u001b[0;34m\u001b[0m\u001b[0;34m\u001b[0m\u001b[0m\n\u001b[0;32m--> 426\u001b[0;31m                 \u001b[0mself\u001b[0m\u001b[0;34m.\u001b[0m\u001b[0mobj\u001b[0m\u001b[0;34m[\u001b[0m\u001b[0mitem\u001b[0m\u001b[0;34m]\u001b[0m \u001b[0;34m=\u001b[0m \u001b[0ms\u001b[0m\u001b[0;34m\u001b[0m\u001b[0m\n\u001b[0m\u001b[1;32m    427\u001b[0m \u001b[0;34m\u001b[0m\u001b[0m\n\u001b[1;32m    428\u001b[0m             \u001b[0;32mdef\u001b[0m \u001b[0mcan_do_equal_len\u001b[0m\u001b[0;34m(\u001b[0m\u001b[0;34m)\u001b[0m\u001b[0;34m:\u001b[0m\u001b[0;34m\u001b[0m\u001b[0m\n",
      "\u001b[0;32m/Users/Maximus/anaconda/lib/python2.7/site-packages/pandas/core/frame.pyc\u001b[0m in \u001b[0;36m__setitem__\u001b[0;34m(self, key, value)\u001b[0m\n\u001b[1;32m   2297\u001b[0m         \u001b[0;32melse\u001b[0m\u001b[0;34m:\u001b[0m\u001b[0;34m\u001b[0m\u001b[0m\n\u001b[1;32m   2298\u001b[0m             \u001b[0;31m# set column\u001b[0m\u001b[0;34m\u001b[0m\u001b[0;34m\u001b[0m\u001b[0m\n\u001b[0;32m-> 2299\u001b[0;31m             \u001b[0mself\u001b[0m\u001b[0;34m.\u001b[0m\u001b[0m_set_item\u001b[0m\u001b[0;34m(\u001b[0m\u001b[0mkey\u001b[0m\u001b[0;34m,\u001b[0m \u001b[0mvalue\u001b[0m\u001b[0;34m)\u001b[0m\u001b[0;34m\u001b[0m\u001b[0m\n\u001b[0m\u001b[1;32m   2300\u001b[0m \u001b[0;34m\u001b[0m\u001b[0m\n\u001b[1;32m   2301\u001b[0m     \u001b[0;32mdef\u001b[0m \u001b[0m_setitem_slice\u001b[0m\u001b[0;34m(\u001b[0m\u001b[0mself\u001b[0m\u001b[0;34m,\u001b[0m \u001b[0mkey\u001b[0m\u001b[0;34m,\u001b[0m \u001b[0mvalue\u001b[0m\u001b[0;34m)\u001b[0m\u001b[0;34m:\u001b[0m\u001b[0;34m\u001b[0m\u001b[0m\n",
      "\u001b[0;32m/Users/Maximus/anaconda/lib/python2.7/site-packages/pandas/core/frame.pyc\u001b[0m in \u001b[0;36m_set_item\u001b[0;34m(self, key, value)\u001b[0m\n\u001b[1;32m   2365\u001b[0m         \u001b[0mself\u001b[0m\u001b[0;34m.\u001b[0m\u001b[0m_ensure_valid_index\u001b[0m\u001b[0;34m(\u001b[0m\u001b[0mvalue\u001b[0m\u001b[0;34m)\u001b[0m\u001b[0;34m\u001b[0m\u001b[0m\n\u001b[1;32m   2366\u001b[0m         \u001b[0mvalue\u001b[0m \u001b[0;34m=\u001b[0m \u001b[0mself\u001b[0m\u001b[0;34m.\u001b[0m\u001b[0m_sanitize_column\u001b[0m\u001b[0;34m(\u001b[0m\u001b[0mkey\u001b[0m\u001b[0;34m,\u001b[0m \u001b[0mvalue\u001b[0m\u001b[0;34m)\u001b[0m\u001b[0;34m\u001b[0m\u001b[0m\n\u001b[0;32m-> 2367\u001b[0;31m         \u001b[0mNDFrame\u001b[0m\u001b[0;34m.\u001b[0m\u001b[0m_set_item\u001b[0m\u001b[0;34m(\u001b[0m\u001b[0mself\u001b[0m\u001b[0;34m,\u001b[0m \u001b[0mkey\u001b[0m\u001b[0;34m,\u001b[0m \u001b[0mvalue\u001b[0m\u001b[0;34m)\u001b[0m\u001b[0;34m\u001b[0m\u001b[0m\n\u001b[0m\u001b[1;32m   2368\u001b[0m \u001b[0;34m\u001b[0m\u001b[0m\n\u001b[1;32m   2369\u001b[0m         \u001b[0;31m# check if we are modifying a copy\u001b[0m\u001b[0;34m\u001b[0m\u001b[0;34m\u001b[0m\u001b[0m\n",
      "\u001b[0;32m/Users/Maximus/anaconda/lib/python2.7/site-packages/pandas/core/generic.pyc\u001b[0m in \u001b[0;36m_set_item\u001b[0;34m(self, key, value)\u001b[0m\n\u001b[1;32m   1206\u001b[0m \u001b[0;34m\u001b[0m\u001b[0m\n\u001b[1;32m   1207\u001b[0m     \u001b[0;32mdef\u001b[0m \u001b[0m_set_item\u001b[0m\u001b[0;34m(\u001b[0m\u001b[0mself\u001b[0m\u001b[0;34m,\u001b[0m \u001b[0mkey\u001b[0m\u001b[0;34m,\u001b[0m \u001b[0mvalue\u001b[0m\u001b[0;34m)\u001b[0m\u001b[0;34m:\u001b[0m\u001b[0;34m\u001b[0m\u001b[0m\n\u001b[0;32m-> 1208\u001b[0;31m         \u001b[0mself\u001b[0m\u001b[0;34m.\u001b[0m\u001b[0m_data\u001b[0m\u001b[0;34m.\u001b[0m\u001b[0mset\u001b[0m\u001b[0;34m(\u001b[0m\u001b[0mkey\u001b[0m\u001b[0;34m,\u001b[0m \u001b[0mvalue\u001b[0m\u001b[0;34m)\u001b[0m\u001b[0;34m\u001b[0m\u001b[0m\n\u001b[0m\u001b[1;32m   1209\u001b[0m         \u001b[0mself\u001b[0m\u001b[0;34m.\u001b[0m\u001b[0m_clear_item_cache\u001b[0m\u001b[0;34m(\u001b[0m\u001b[0;34m)\u001b[0m\u001b[0;34m\u001b[0m\u001b[0m\n\u001b[1;32m   1210\u001b[0m \u001b[0;34m\u001b[0m\u001b[0m\n",
      "\u001b[0;32m/Users/Maximus/anaconda/lib/python2.7/site-packages/pandas/core/internals.pyc\u001b[0m in \u001b[0;36mset\u001b[0;34m(self, item, value, check)\u001b[0m\n\u001b[1;32m   3349\u001b[0m             \u001b[0mblk_locs\u001b[0m \u001b[0;34m=\u001b[0m \u001b[0mblklocs\u001b[0m\u001b[0;34m[\u001b[0m\u001b[0mval_locs\u001b[0m\u001b[0;34m.\u001b[0m\u001b[0mindexer\u001b[0m\u001b[0;34m]\u001b[0m\u001b[0;34m\u001b[0m\u001b[0m\n\u001b[1;32m   3350\u001b[0m             \u001b[0;32mif\u001b[0m \u001b[0mblk\u001b[0m\u001b[0;34m.\u001b[0m\u001b[0mshould_store\u001b[0m\u001b[0;34m(\u001b[0m\u001b[0mvalue\u001b[0m\u001b[0;34m)\u001b[0m\u001b[0;34m:\u001b[0m\u001b[0;34m\u001b[0m\u001b[0m\n\u001b[0;32m-> 3351\u001b[0;31m                 \u001b[0mblk\u001b[0m\u001b[0;34m.\u001b[0m\u001b[0mset\u001b[0m\u001b[0;34m(\u001b[0m\u001b[0mblk_locs\u001b[0m\u001b[0;34m,\u001b[0m \u001b[0mvalue_getitem\u001b[0m\u001b[0;34m(\u001b[0m\u001b[0mval_locs\u001b[0m\u001b[0;34m)\u001b[0m\u001b[0;34m,\u001b[0m \u001b[0mcheck\u001b[0m\u001b[0;34m=\u001b[0m\u001b[0mcheck\u001b[0m\u001b[0;34m)\u001b[0m\u001b[0;34m\u001b[0m\u001b[0m\n\u001b[0m\u001b[1;32m   3352\u001b[0m             \u001b[0;32melse\u001b[0m\u001b[0;34m:\u001b[0m\u001b[0;34m\u001b[0m\u001b[0m\n\u001b[1;32m   3353\u001b[0m                 \u001b[0munfit_mgr_locs\u001b[0m\u001b[0;34m.\u001b[0m\u001b[0mappend\u001b[0m\u001b[0;34m(\u001b[0m\u001b[0mblk\u001b[0m\u001b[0;34m.\u001b[0m\u001b[0mmgr_locs\u001b[0m\u001b[0;34m.\u001b[0m\u001b[0mas_array\u001b[0m\u001b[0;34m[\u001b[0m\u001b[0mblk_locs\u001b[0m\u001b[0;34m]\u001b[0m\u001b[0;34m)\u001b[0m\u001b[0;34m\u001b[0m\u001b[0m\n",
      "\u001b[0;32m/Users/Maximus/anaconda/lib/python2.7/site-packages/pandas/core/internals.pyc\u001b[0m in \u001b[0;36mset\u001b[0;34m(self, locs, values, check)\u001b[0m\n\u001b[1;32m   1700\u001b[0m                 \u001b[0;32mpass\u001b[0m\u001b[0;34m\u001b[0m\u001b[0m\n\u001b[1;32m   1701\u001b[0m         \u001b[0;32mtry\u001b[0m\u001b[0;34m:\u001b[0m\u001b[0;34m\u001b[0m\u001b[0m\n\u001b[0;32m-> 1702\u001b[0;31m             \u001b[0mself\u001b[0m\u001b[0;34m.\u001b[0m\u001b[0mvalues\u001b[0m\u001b[0;34m[\u001b[0m\u001b[0mlocs\u001b[0m\u001b[0;34m]\u001b[0m \u001b[0;34m=\u001b[0m \u001b[0mvalues\u001b[0m\u001b[0;34m\u001b[0m\u001b[0m\n\u001b[0m\u001b[1;32m   1703\u001b[0m         \u001b[0;32mexcept\u001b[0m \u001b[0;34m(\u001b[0m\u001b[0mValueError\u001b[0m\u001b[0;34m)\u001b[0m\u001b[0;34m:\u001b[0m\u001b[0;34m\u001b[0m\u001b[0m\n\u001b[1;32m   1704\u001b[0m \u001b[0;34m\u001b[0m\u001b[0m\n",
      "\u001b[0;31mKeyboardInterrupt\u001b[0m: "
     ]
    }
   ],
   "source": [
    "#for key in dct.keys(): print key\n",
    "\n",
    "#d_data = pd.DataFrame(0, index=np.arange(6391), columns=feature_list)\n",
    " \n",
    "l = len(reviews.keys())     \n",
    "f_list = ['business_id', 'reviews']\n",
    "b_rev = pd.DataFrame(0, index=np.arange(l), columns=f_list)\n",
    "\n",
    "c=0\n",
    "\n",
    "for i in list(reviews)[0:len(reviews)]:\n",
    "    b_rev.ix[c,'business_id'] = reviews[i]['business_id'] \n",
    "    b_rev.ix[c,'reviews'] =  reviews[i]['stars']        \n",
    "    c = c + 1   \n",
    "    \n",
    "print 'nano'"
   ]
  },
  {
   "cell_type": "code",
   "execution_count": 137,
   "metadata": {
    "collapsed": false
   },
   "outputs": [
    {
     "name": "stdout",
     "output_type": "stream",
     "text": [
      "84075 330071\n",
      "              business_id  reviews\n",
      "0  wbpbaWBfU54JbjLIDwERQA        5\n",
      "1  4iTRjN_uAdAb7_YZDVHJdg        5\n",
      "2  qw5gR8vW7mSOK4VROSwdMA        4\n",
      "3  81IjU5L-t-QQwsE38C63hQ        4\n",
      "4  Hnz1_h_D1eHSRtQqHSCZkw        2\n",
      "5  ZRm8fSEBn8DsSLD4o7T4hQ        4\n",
      "6  -tphABJRkegXV4Fr1ke4FQ        4\n",
      "7  kYD1PIXBsyZQXG_AEJB7ew        4\n",
      "8  Q0t7EEaygJ2hb4uFn79owQ        4\n",
      "9  fcdjnsgO8Z5LthXUx3y-lA        3\n",
      "business_id\n",
      "-tphABJRkegXV4Fr1ke4FQ    1\n",
      "4iTRjN_uAdAb7_YZDVHJdg    1\n",
      "81IjU5L-t-QQwsE38C63hQ    1\n",
      "8sGKlCVtewMuA2RGyfatyg    1\n",
      "Hnz1_h_D1eHSRtQqHSCZkw    1\n",
      "JrGSfjRqAtIZjjwC3FFQ4w    2\n",
      "Q0t7EEaygJ2hb4uFn79owQ    1\n",
      "V9DXseGJNzLeCxUpMZuUnw    1\n",
      "XIdmWw-OMx5nhpuTSdxYlQ    1\n",
      "YMeWjOd1svHDGdDCKoiGgg    1\n",
      "ZRm8fSEBn8DsSLD4o7T4hQ    1\n",
      "fcdjnsgO8Z5LthXUx3y-lA    1\n",
      "jTPr0dFk2JgGYdDiIGro3Q    2\n",
      "kYD1PIXBsyZQXG_AEJB7ew    1\n",
      "pTTUqKB3TxaW43ElWl6aOQ    1\n",
      "piXuRfZ81xFGA64WFJrKkQ    1\n",
      "qw5gR8vW7mSOK4VROSwdMA    1\n",
      "wbpbaWBfU54JbjLIDwERQA    1\n",
      "Name: reviews, dtype: int64\n"
     ]
    }
   ],
   "source": [
    "print c, l\n",
    "print b_rev.iloc[0:10,:] \n",
    "#print type(b_rev.iloc[3,1])\n",
    "table = pd.pivot_table(b_rev.iloc[0:20,:], values='reviews', index ='business_id', aggfunc='count')\n",
    "\n",
    "print table"
   ]
  },
  {
   "cell_type": "code",
   "execution_count": 133,
   "metadata": {
    "collapsed": false
   },
   "outputs": [
    {
     "name": "stdout",
     "output_type": "stream",
     "text": [
      "naon\n"
     ]
    }
   ],
   "source": [
    "print 'naon'"
   ]
  },
  {
   "cell_type": "code",
   "execution_count": 3,
   "metadata": {
    "collapsed": false
   },
   "outputs": [
    {
     "name": "stdout",
     "output_type": "stream",
     "text": [
      "            city               name  review_count  Active Life  Afghan  \\\n",
      "0      Cambridge    Brookline Lunch           185            0       0   \n",
      "1      Cambridge    Brookline Lunch           185            0       0   \n",
      "2           Troy  Notty Pine Tavern             6            0       0   \n",
      "3   Philadelphia      Pitruco Pizza            42            0       0   \n",
      "4      Greenbelt            Wendy's             4            0       0   \n",
      "5        Houston      Ben & Jerry's            12            0       0   \n",
      "6      Champaign   Papa Del's Pizza           140            0       0   \n",
      "7         Austin           7 Eleven             9            0       0   \n",
      "8       New York       Elsabet Cafe            13            0       0   \n",
      "9      Lafayette        TGI Fridays             7            0       0   \n",
      "10      La Jolla      Cafe Ventanas            17            0       0   \n",
      "\n",
      "    African  American (New)  American (Traditional)  Antiques  Appliances  \\\n",
      "0         0               0                       0         0           0   \n",
      "1         0               0                       0         0           0   \n",
      "2         0               0                       0         0           0   \n",
      "3         0               0                       0         0           0   \n",
      "4         0               0                       0         0           0   \n",
      "5         0               0                       0         0           0   \n",
      "6         0               0                       0         0           0   \n",
      "7         0               0                       0         0           0   \n",
      "8         0               0                      13         0           0   \n",
      "9         0               7                       0         0           0   \n",
      "10        0               0                       0         0           0   \n",
      "\n",
      "    Arcades  Argentine  Art Galleries  Arts & Entertainment  Asian Fusion  \\\n",
      "0         0          0              0                     0             0   \n",
      "1         0          0              0                     0             0   \n",
      "2         0          0              0                     0             0   \n",
      "3         0          0              0                     0             0   \n",
      "4         0          0              0                     0             0   \n",
      "5         0          0              0                     0             0   \n",
      "6         0          0              0                     0             0   \n",
      "7         0          0              0                     0             0   \n",
      "8         0          0              0                     0             0   \n",
      "9         0          0              0                     0             0   \n",
      "10        0          0              0                     0             0   \n",
      "\n",
      "    Automotive  Bagels  Bakeries  Barbeque  \n",
      "0            0       0         0         0  \n",
      "1            0       0         0         0  \n",
      "2            0       0         0         0  \n",
      "3            0       0         0         0  \n",
      "4            0       0         0         0  \n",
      "5            0       0         0         0  \n",
      "6            0       0         0         0  \n",
      "7            0       0         0         0  \n",
      "8            0       0         0         0  \n",
      "9            0       0         0         0  \n",
      "10           0       0         0         0  \n"
     ]
    }
   ],
   "source": [
    "#6390 total business per schools\n",
    "import math\n",
    "import numpy as np\n",
    "import pandas as pd\n",
    "\n",
    "c_test = []\n",
    "for i in list(businesses)[0:len(businesses)-1]:\n",
    "    for j in range(len(businesses[i]['categories'])):\n",
    "        c_test.append(businesses[i]['categories'][j].encode('utf8'))\n",
    "\n",
    "feature_list = ['schools', 'city', 'name', 'review_count']\n",
    "feature_list =feature_list + list(np.unique(c_test))\n",
    "\n",
    "d_data = pd.DataFrame(0, index=np.arange(6391), columns=feature_list)\n",
    "\n",
    "c = 0\n",
    "#for i in list(businesses)[0:len(businesses)]:\n",
    "for i in list(businesses)[0:len(businesses)]:\n",
    "    for j in range(len(businesses[i]['schools'])):\n",
    "        d_data.ix[c,'city'] = businesses[i]['city']   \n",
    "        d_data.ix[c,'name'] = businesses[i]['name']\n",
    "        d_data.ix[c, 'review_count'] = businesses[i]['review_count']\n",
    "        d_data.ix[c, 'schools'] = businesses[i]['schools'][j] \n",
    "        for k in range(len(businesses[i]['categories'])):\n",
    "            l = feature_list.index(businesses[i]['categories'][k])\n",
    "            d_data.ix[c,l] = businesses[i]['review_count'] \n",
    "        c = c + 1\n",
    "print d_data.ix[0:10,1:20]       "
   ]
  },
  {
   "cell_type": "code",
   "execution_count": 3,
   "metadata": {
    "collapsed": false
   },
   "outputs": [],
   "source": [
    "#Upload a list of categories to exclude\n",
    "text_file = open(\"/Users/Maximus/Desktop/W209_DB/remove.txt\", \"r\")\n",
    "lines = text_file.readlines()\n",
    "word = []\n",
    "for i in lines:\n",
    "    word.append(i.strip())"
   ]
  },
  {
   "cell_type": "code",
   "execution_count": 4,
   "metadata": {
    "collapsed": false
   },
   "outputs": [],
   "source": [
    "campus_key = {\n",
    "'umich': 'University of Michigan - Ann Arbor',\n",
    "'penn': 'University of Pennsylvania',\n",
    "'harvard': 'Harvard University',\n",
    "'cal': 'University of California at Berkeley',\n",
    "'umass': 'University of Massachusetts - Amherst',\n",
    "'vt': 'Virginia Tech',\n",
    "'unc': 'University of North Carolina - Chapel Hill',\n",
    "'uw': 'University of Washington',\n",
    "'utt': 'University of Texas - Austin',\n",
    "'usc': 'University of Southern California',\n",
    "'ucla': 'University of California - Los Angeles',\n",
    "'ucsd': 'University of California - San Diego',\n",
    "'ill': 'University of Illinois - Urbana-Champaign',\n",
    "'purdue': 'Purdue University',\n",
    "'princeton': 'Princeton University',\n",
    "'mit': 'Massachusetts Institute of Technology',\n",
    "'harveymudd': 'Harvey Mudd College',\n",
    "'stanford': 'Stanford University',\n",
    "'carnegie': 'Carnegie Mellon University',\n",
    "'columbia': 'Columbia University',\n",
    "'cornell': 'Cornell University',\n",
    "'gt': 'Georgia Institute of Technology',\n",
    "'rice': 'Rice University',\n",
    "'rensselaer': 'Rensselaer Polytechnic Institute',\n",
    "'brown': 'Brown University',\n",
    "'caltech': 'California Institute of Technology',\n",
    "'cp': 'California Polytechnic State University',\n",
    "'maryland': 'University of Maryland - College Park',\n",
    "'waterloo': 'University of Waterloo'}\n",
    "\n",
    "campus_name = {}\n",
    "for key, value in campus_key.iteritems():\n",
    "    campus_name[value] = key"
   ]
  },
  {
   "cell_type": "code",
   "execution_count": 5,
   "metadata": {
    "collapsed": false
   },
   "outputs": [
    {
     "name": "stdout",
     "output_type": "stream",
     "text": [
      "212\n"
     ]
    }
   ],
   "source": [
    "#Necessary step\n",
    "#Aggregate...find the average rating per category\n",
    "new_feature_list =['schools'] + list(np.unique(c_test))\n",
    "meta_data = pd.DataFrame(0, index=np.arange(30), columns=new_feature_list)\n",
    "sch =  d_data.ix[:,0].unique()\n",
    "meta_data.ix[0:28, 0] = sch[0:29]\n",
    "\n",
    "c = 0\n",
    "for i in sch:\n",
    "    k = 0\n",
    "    for j in new_feature_list[1:]:\n",
    "        t = d_data.ix[(d_data['schools'] == i) & d_data[j]<>0, [j]].mean()[0]\n",
    "        if math.isnan(t):\n",
    "            meta_data.ix[c, k+1] = 0\n",
    "        else: meta_data.ix[c, k+1] = t\n",
    "        k = k + 1\n",
    "    c = c + 1\n",
    "\n",
    "print len(meta_data.iloc[0,:])"
   ]
  },
  {
   "cell_type": "code",
   "execution_count": 7,
   "metadata": {
    "collapsed": false
   },
   "outputs": [],
   "source": [
    "new_col = []\n",
    "\n",
    "    #new_col.append(meta_data.iloc[i,0].encode('utf8'))  #School names\n",
    "    #new_col.append(meta_data.iloc[i,0].encode('utf8')+('_count'))\n",
    "\n",
    "for i in range(29):\n",
    "    new_col.append( campus_name[meta_data.iloc[i,0]] )\n",
    "    new_col.append( campus_name[meta_data.iloc[i,0]] + ('_count'))\n",
    "\n",
    "a_size = 30\n",
    "final_data  = pd.DataFrame(0, index=np.arange(a_size), columns=new_col)\n",
    "output_data = pd.DataFrame(0, index=np.arange(10), columns=new_col)\n",
    "#Final data is the result frame\n",
    "\n",
    "for i in range(29):\n",
    "    a = np.array(meta_data.ix[i,1:])\n",
    "    loc = list(a.argsort()[-a_size:][::-1])\n",
    "    loc = map(lambda x: x + 1, loc)\n",
    "    final_data.iloc[:,i*2] = list(meta_data.columns.values[loc])  #Upload column names\n",
    "    final_data.iloc[:,i*2+1] = list(meta_data.ix[i,loc])\n",
    "    #print meta_data.ix[i,loc]\n",
    "\n",
    "#Create another dataframe; move the data input it only if it was in the list\n",
    "#print final_data\n",
    "#print final_data['penn']\n",
    "\n",
    "for i in range(29):\n",
    "    k = 0\n",
    "    for count, item in enumerate(final_data.iloc[:,i*2]):\n",
    "        if (item not in word) and (k < 10):\n",
    "            output_data.iloc[k, i*2  ] = item \n",
    "            output_data.iloc[k, i*2+1] = final_data.iloc[count, i*2+1]\n",
    "            k = k +1\n",
    "        elif k == 10:    #As soon as an error, will break out the loop\n",
    "            break\n",
    "#print output_data['cal']\n",
    "writeout = output_data\n",
    "writeout.to_csv('d3_data.txt', sep='\\t', index=False)"
   ]
  },
  {
   "cell_type": "code",
   "execution_count": 7,
   "metadata": {
    "collapsed": false
   },
   "outputs": [
    {
     "name": "stdout",
     "output_type": "stream",
     "text": [
      "Cajun/Creole                  969\n",
      "Tex-Mex                       969\n",
      "Southern                      675\n",
      "Desserts                      339\n",
      "Burgers                   299.667\n",
      "French                    276.333\n",
      "Irish                         248\n",
      "Breweries                 243.667\n",
      "Juice Bars & Smoothies        243\n",
      "African                       219\n",
      "Name: 0, dtype: object\n",
      "Cajun/Creole                  969\n",
      "Tex-Mex                       969\n",
      "Southern                      675\n",
      "Desserts                      339\n",
      "Burgers                   299.667\n",
      "French                    276.333\n",
      "Irish                         248\n",
      "Breweries                 243.667\n",
      "Juice Bars & Smoothies        243\n",
      "African                       219\n",
      "Name: 1, dtype: object\n",
      "Mediterranean       43\n",
      "Sushi Bars          41\n",
      "Lounges             32\n",
      "Hot Dogs            29\n",
      "Mexican             29\n",
      "Indian            28.2\n",
      "Middle Eastern      27\n",
      "Vegan               27\n",
      "Desserts            27\n",
      "Japanese          26.5\n",
      "Name: 2, dtype: object\n",
      "Buffets              199\n",
      "Tex-Mex              171\n",
      "Gastropubs           156\n",
      "Pubs                 143\n",
      "Nightlife          136.5\n",
      "Bars               136.5\n",
      "Asian Fusion         119\n",
      "Mexican          114.714\n",
      "Mediterranean        106\n",
      "Thai                95.5\n",
      "Name: 3, dtype: object\n",
      "Vegan           101\n",
      "Breweries       100\n",
      "Delis            69\n",
      "Bagels           69\n",
      "Ethiopian        69\n",
      "Halal            61\n",
      "Diners           54\n",
      "Indian         53.4\n",
      "Pubs             53\n",
      "Sports Bars      48\n",
      "Name: 4, dtype: object\n",
      "Asian Fusion                  179\n",
      "Food Stands                   179\n",
      "Korean                        179\n",
      "Lounges                       154\n",
      "Indian                        153\n",
      "Breakfast & Brunch        151.667\n",
      "Chocolatiers and Shops        141\n",
      "Basque                        124\n",
      "Tapas Bars                    124\n",
      "Spanish                       124\n",
      "Name: 5, dtype: object\n",
      "Basque                    109\n",
      "Spanish                   109\n",
      "Sushi Bars                 97\n",
      "Barbeque              86.3333\n",
      "Asian Fusion          63.6667\n",
      "Breakfast & Brunch         60\n",
      "Cajun/Creole               58\n",
      "Lounges                    57\n",
      "Gelato                     47\n",
      "Creperies                  47\n",
      "Name: 6, dtype: object\n",
      "Indian                      505\n",
      "Music Venues                403\n",
      "Diners                      271\n",
      "Nightlife                 270.5\n",
      "Bars                    226.333\n",
      "Tex-Mex                 209.333\n",
      "Arts & Entertainment        205\n",
      "British                     195\n",
      "Brazilian                   195\n",
      "Pubs                        195\n",
      "Name: 7, dtype: object\n",
      "Bagels         387\n",
      "Thai           285\n",
      "Southern       223\n",
      "Cuban          219\n",
      "Creperies      203\n",
      "German         161\n",
      "Bakeries       151\n",
      "Soul Food      130\n",
      "Diners       114.5\n",
      "Burgers        107\n",
      "Name: 8, dtype: object\n",
      "Korean              49\n",
      "French              39\n",
      "Bistros             39\n",
      "Irish               38\n",
      "Pubs                38\n",
      "Tapas Bars          25\n",
      "Sushi Bars          25\n",
      "Diners              21\n",
      "Middle Eastern      21\n",
      "Japanese          20.5\n",
      "Name: 9, dtype: object\n",
      "Steakhouses        366\n",
      "Wine Bars          343\n",
      "Russian            209\n",
      "Seafood            209\n",
      "Nightlife          184\n",
      "Bars               184\n",
      "Pizza          154.333\n",
      "Japanese           132\n",
      "Sushi Bars         132\n",
      "Thai               127\n",
      "Name: 10, dtype: object\n",
      "Tex-Mex               125\n",
      "Cajun/Creole          125\n",
      "Ethiopian             117\n",
      "Tapas/Small Plates    113\n",
      "Cafes                 113\n",
      "Greek                  87\n",
      "Burgers                85\n",
      "Creperies              81\n",
      "Indian                 73\n",
      "Pubs                   69\n",
      "Name: 11, dtype: object\n",
      "Hot Dogs                  129\n",
      "Breweries                  73\n",
      "Breakfast & Brunch    68.5556\n",
      "Southern                   65\n",
      "Asian Fusion             62.5\n",
      "Bakeries                   61\n",
      "Vegetarian                 59\n",
      "Burgers               57.6667\n",
      "Indian                     55\n",
      "American (New)        53.6667\n",
      "Name: 12, dtype: object\n",
      "Soup                        849\n",
      "Vegan                       451\n",
      "Donuts                      313\n",
      "Burgers                     278\n",
      "Thai                    275.667\n",
      "Arts & Entertainment        269\n",
      "Music Venues                269\n",
      "American (New)              257\n",
      "Vegetarian                  229\n",
      "Korean                  213.667\n",
      "Name: 13, dtype: object\n",
      "Wine Bars                        541\n",
      "Peruvian                         379\n",
      "Breakfast & Brunch               229\n",
      "Caterers                         199\n",
      "Event Planning & Services        199\n",
      "Italian                        135.8\n",
      "Bars                           129.4\n",
      "Nightlife                      129.4\n",
      "Indian                       112.333\n",
      "Food Delivery Services            89\n",
      "Name: 14, dtype: object\n",
      "Breweries                        217\n",
      "Wine Bars                        173\n",
      "Pubs                              84\n",
      "Gluten-Free                       73\n",
      "Ice Cream & Frozen Yogurt    69.6667\n",
      "Nightlife                         67\n",
      "Bars                              67\n",
      "Sports Bars                       51\n",
      "American (New)               50.7778\n",
      "Steakhouses                  48.3333\n",
      "Name: 15, dtype: object\n",
      "Hot Dogs                   89\n",
      "Tapas Bars                 87\n",
      "Vegetarian            79.6667\n",
      "Japanese                   73\n",
      "Korean                   70.5\n",
      "French                     63\n",
      "Breakfast & Brunch       57.5\n",
      "Thai                     47.8\n",
      "Chinese                 43.25\n",
      "Creperies                  43\n",
      "Name: 16, dtype: object\n",
      "Thai                357\n",
      "Wine Bars           351\n",
      "Donuts              341\n",
      "Lounges             293\n",
      "Korean              276\n",
      "Bars            275.667\n",
      "Nightlife       275.667\n",
      "Breweries           249\n",
      "Asian Fusion        240\n",
      "Pizza             185.8\n",
      "Name: 17, dtype: object\n",
      "Indian                      224\n",
      "Pubs                        201\n",
      "German                      153\n",
      "Greek                     119.5\n",
      "Middle Eastern              119\n",
      "American (New)              116\n",
      "Mediterranean               115\n",
      "Chocolatiers and Shops      109\n",
      "Candy Stores                109\n",
      "Vegan                       107\n",
      "Name: 18, dtype: object\n",
      "Bakeries             589.8\n",
      "Desserts               497\n",
      "Gluten-Free            497\n",
      "Butcher                193\n",
      "Seafood Markets        193\n",
      "Food               155.917\n",
      "Indian                 155\n",
      "American (New)     134.455\n",
      "Vietnamese             131\n",
      "Sandwiches             122\n",
      "Name: 19, dtype: object\n",
      "American (Traditional)    498.333\n",
      "Barbeque                  432.333\n",
      "Diners                        151\n",
      "Breakfast & Brunch            151\n",
      "Mediterranean               144.5\n",
      "Seafood                     118.5\n",
      "Thai                          108\n",
      "Lounges                       102\n",
      "American (New)             100.25\n",
      "Tapas/Small Plates             99\n",
      "Name: 20, dtype: object\n",
      "Barbeque                          67\n",
      "American (Traditional)       57.6667\n",
      "Mexican                      57.6667\n",
      "French                            57\n",
      "Asian Fusion                      44\n",
      "Breakfast & Brunch                40\n",
      "Coffee & Tea                 36.3333\n",
      "Ethnic Food                       34\n",
      "Event Planning & Services         33\n",
      "Caterers                          33\n",
      "Name: 21, dtype: object\n",
      "Modern European      371\n",
      "Donuts               333\n",
      "Soul Food            228\n",
      "Italian            207.8\n",
      "Buffets              201\n",
      "Breweries            162\n",
      "Seafood              161\n",
      "Latin American       153\n",
      "Asian Fusion         144\n",
      "Dive Bars            141\n",
      "Name: 22, dtype: object\n",
      "Tapas Bars          433\n",
      "Basque              433\n",
      "Spanish             433\n",
      "Bars                189\n",
      "Afghan              187\n",
      "Jazz & Blues        183\n",
      "Fondue              183\n",
      "Thai                171\n",
      "Lounges             167\n",
      "Burgers         163.667\n",
      "Name: 23, dtype: object\n",
      "Caterers                         187\n",
      "Delis                            153\n",
      "Breweries                        152\n",
      "Barbeque                         129\n",
      "Pubs                           120.2\n",
      "Event Planning & Services      115.4\n",
      "Breakfast & Brunch             108.5\n",
      "American (New)               94.4286\n",
      "Seafood                           91\n",
      "American (Traditional)            86\n",
      "Name: 24, dtype: object\n",
      "Vegetarian       67\n",
      "Vegan            67\n",
      "Barbeque         35\n",
      "Greek            33\n",
      "Pool Halls       29\n",
      "Mediterranean    27\n",
      "Delis            23\n",
      "Indian           21\n",
      "Sushi Bars       18\n",
      "Steakhouses      17\n",
      "Name: 25, dtype: object\n",
      "Bagels          109\n",
      "Tapas Bars      101\n",
      "Shopping         89\n",
      "Drugstores       89\n",
      "Vegetarian       64\n",
      "Sandwiches     53.5\n",
      "Steakhouses      51\n",
      "Meat Shops       47\n",
      "Burgers          45\n",
      "Lounges          45\n",
      "Name: 26, dtype: object\n",
      "Hot Dogs                    879\n",
      "Mediterranean               567\n",
      "Greek                       567\n",
      "Asian Fusion                479\n",
      "Thai                        413\n",
      "American (New)          385.667\n",
      "Bakeries                    383\n",
      "Lounges                     355\n",
      "Beer, Wine & Spirits        343\n",
      "Korean                      335\n",
      "Name: 27, dtype: object\n",
      "Pubs                       12\n",
      "Canadian (New)             11\n",
      "American (Traditional)      9\n",
      "Sushi Bars                  9\n",
      "Bakeries                    8\n",
      "Bars                      7.8\n",
      "Nightlife                   7\n",
      "Thai                        7\n",
      "Mediterranean               7\n",
      "Fish & Chips                7\n",
      "Name: 28, dtype: object\n"
     ]
    }
   ],
   "source": [
    "#Top food categories for each school\n",
    "for i in range(29):\n",
    "    #print meta_data.ix[i,0]\n",
    "    a = np.array(meta_data.ix[i,1:])\n",
    "    loc = list(a.argsort()[-10:][::-1])\n",
    "    loc = map(lambda x: x + 1, loc)\n",
    "    print meta_data.ix[i,loc]"
   ]
  },
  {
   "cell_type": "code",
   "execution_count": null,
   "metadata": {
    "collapsed": true
   },
   "outputs": [],
   "source": [
    "#Practice Final output\n",
    "print meta_data.iloc[:,0] # School names\n",
    "\n",
    "#Load rankings\n",
    "for i in range(29):\n",
    "    #print meta_data.ix[i,0]\n",
    "    a = np.array(meta_data.ix[i,1:])\n",
    "    loc = list(a.argsort()[-10:][::-1])\n",
    "    loc = map(lambda x: x + 1, loc)\n",
    "    print meta_data.ix[i,loc]\n",
    "\n",
    "#Output\n",
    "#Sample on how to output result file\n",
    "#a = meta_data.ix[0,:]\n",
    "#writeout = pd.DataFrame(0, index=np.arange(300), columns=['Category'])\n",
    "temp = list(np.unique(c_test))\n",
    "writeout = pd.DataFrame(temp)\n",
    "\n",
    "#for i in range(len(temp)):\n",
    "    #writeout.ix[i] = list(np.unique(c_test))[i]\n",
    "\n",
    "#print type(meta_data.columns)\n",
    "writeout.to_csv('Category_names.txt', sep='\\t', index=False)\n",
    "print 'Nano'"
   ]
  },
  {
   "cell_type": "code",
   "execution_count": 18,
   "metadata": {
    "collapsed": false
   },
   "outputs": [
    {
     "name": "stdout",
     "output_type": "stream",
     "text": [
      "0          Massachusetts Institute of Technology\n",
      "1                             Harvard University\n",
      "2               Rensselaer Polytechnic Institute\n",
      "3                     University of Pennsylvania\n",
      "4          University of Maryland - College Park\n",
      "5                                Rice University\n",
      "6      University of Illinois - Urbana-Champaign\n",
      "7                   University of Texas - Austin\n",
      "8                            Columbia University\n",
      "9                              Purdue University\n",
      "10          University of California - San Diego\n",
      "11                              Brown University\n",
      "12    University of North Carolina - Chapel Hill\n",
      "13          University of California at Berkeley\n",
      "14             University of Southern California\n",
      "15                          Princeton University\n",
      "16                    Carnegie Mellon University\n",
      "17        University of California - Los Angeles\n",
      "18                      University of Washington\n",
      "19                           Stanford University\n",
      "20       California Polytechnic State University\n",
      "21         University of Massachusetts - Amherst\n",
      "22               Georgia Institute of Technology\n",
      "23                           Harvey Mudd College\n",
      "24            University of Michigan - Ann Arbor\n",
      "25                                 Virginia Tech\n",
      "26                            Cornell University\n",
      "27            California Institute of Technology\n",
      "28                        University of Waterloo\n",
      "29                                             0\n",
      "Name: schools, dtype: object\n"
     ]
    }
   ],
   "source": [
    "print meta_data.iloc[:,0]"
   ]
  },
  {
   "cell_type": "code",
   "execution_count": 41,
   "metadata": {
    "collapsed": false
   },
   "outputs": [
    {
     "name": "stdout",
     "output_type": "stream",
     "text": [
      "['schools', 'Active Life']\n"
     ]
    }
   ],
   "source": [
    "print list(meta_data.columns.values)[0:2]"
   ]
  },
  {
   "cell_type": "code",
   "execution_count": 14,
   "metadata": {
    "collapsed": false
   },
   "outputs": [
    {
     "name": "stdout",
     "output_type": "stream",
     "text": [
      "Nano\n"
     ]
    }
   ],
   "source": [
    "#Sample on how to output result file\n",
    "\n",
    "#temp = list(np.unique(c_test))\n",
    "writeout = final_data\n",
    "writeout.to_csv('Category_namesv3.txt', sep='\\t', index=False)\n",
    "print 'Final version'"
   ]
  },
  {
   "cell_type": "code",
   "execution_count": 12,
   "metadata": {
    "collapsed": false
   },
   "outputs": [
    {
     "name": "stdout",
     "output_type": "stream",
     "text": [
      "Nano\n"
     ]
    }
   ],
   "source": [
    "#Sample on how to output result file\n",
    "#a = meta_data.ix[0,:]\n",
    "#writeout = pd.DataFrame(0, index=np.arange(300), columns=['Category'])\n",
    "temp = list(np.unique(c_test))\n",
    "writeout = pd.DataFrame(temp)\n",
    "\n",
    "#for i in range(len(temp)):\n",
    "    #writeout.ix[i] = list(np.unique(c_test))[i]\n",
    "\n",
    "#print type(meta_data.columns)\n",
    "writeout.to_csv('Category_names.txt', sep='\\t', index=False)\n",
    "print 'Nano'"
   ]
  }
 ],
 "metadata": {
  "kernelspec": {
   "display_name": "Python 2",
   "language": "python",
   "name": "python2"
  },
  "language_info": {
   "codemirror_mode": {
    "name": "ipython",
    "version": 2
   },
   "file_extension": ".py",
   "mimetype": "text/x-python",
   "name": "python",
   "nbconvert_exporter": "python",
   "pygments_lexer": "ipython2",
   "version": "2.7.11"
  }
 },
 "nbformat": 4,
 "nbformat_minor": 0
}
